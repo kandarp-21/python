{
 "cells": [
  {
   "cell_type": "code",
   "execution_count": 5,
   "id": "14a81cdd-b0e0-4df1-a7f5-d405e369ffed",
   "metadata": {},
   "outputs": [
    {
     "name": "stdin",
     "output_type": "stream",
     "text": [
      "enter the value of n : 5\n"
     ]
    },
    {
     "name": "stdout",
     "output_type": "stream",
     "text": [
      "1 2 3 5 8 \n"
     ]
    }
   ],
   "source": [
    "#fibonacci series\n",
    "n = int(input(\"enter the value of n :\"))\n",
    "num1 = 0\n",
    "num2 = 1\n",
    "next_num = num2\n",
    "count = 1\n",
    "while count <= n:\n",
    "    print(next_num, end=\" \")\n",
    "    count += 1\n",
    "    num1 = num2\n",
    "    num2=next_num\n",
    "    next_num = num1 + num2\n",
    "print()"
   ]
  },
  {
   "cell_type": "code",
   "execution_count": null,
   "id": "d7397ea4-6c9a-45a4-988b-36f0fc93682d",
   "metadata": {},
   "outputs": [],
   "source": []
  }
 ],
 "metadata": {
  "kernelspec": {
   "display_name": "Python 3 (ipykernel)",
   "language": "python",
   "name": "python3"
  },
  "language_info": {
   "codemirror_mode": {
    "name": "ipython",
    "version": 3
   },
   "file_extension": ".py",
   "mimetype": "text/x-python",
   "name": "python",
   "nbconvert_exporter": "python",
   "pygments_lexer": "ipython3",
   "version": "3.11.4"
  }
 },
 "nbformat": 4,
 "nbformat_minor": 5
}
