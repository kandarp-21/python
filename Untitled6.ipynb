{
 "cells": [
  {
   "cell_type": "code",
   "execution_count": 1,
   "id": "3cc070e5-30f5-4ca2-b63e-2fb301d8a050",
   "metadata": {},
   "outputs": [
    {
     "name": "stdout",
     "output_type": "stream",
     "text": [
      "indi\n",
      "wotn\n"
     ]
    }
   ],
   "source": [
    "#string slicingn\n",
    "n=\"welcome to india\"\n",
    "print(n[11:-1])\n",
    "print(n[0::4])"
   ]
  },
  {
   "cell_type": "code",
   "execution_count": null,
   "id": "3e4e86b7-3d56-4b62-a626-6e5f3443011e",
   "metadata": {},
   "outputs": [],
   "source": []
  }
 ],
 "metadata": {
  "kernelspec": {
   "display_name": "Python 3 (ipykernel)",
   "language": "python",
   "name": "python3"
  },
  "language_info": {
   "codemirror_mode": {
    "name": "ipython",
    "version": 3
   },
   "file_extension": ".py",
   "mimetype": "text/x-python",
   "name": "python",
   "nbconvert_exporter": "python",
   "pygments_lexer": "ipython3",
   "version": "3.11.4"
  }
 },
 "nbformat": 4,
 "nbformat_minor": 5
}
