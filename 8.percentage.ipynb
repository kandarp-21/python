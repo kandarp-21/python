{
 "cells": [
  {
   "cell_type": "code",
   "execution_count": 1,
   "id": "5197b180-c6ed-46f3-a9f4-014fb3e25bd3",
   "metadata": {},
   "outputs": [
    {
     "name": "stdin",
     "output_type": "stream",
     "text": [
      "Total no of student :  6\n",
      "Enter student 1 marks :  41\n",
      "Enter student 2 marks :  20\n",
      "Enter student 3 marks :  19\n",
      "Enter student 4 marks :  40\n",
      "Enter student 5 marks :  50\n",
      "Enter student 6 marks :  80\n"
     ]
    },
    {
     "name": "stdout",
     "output_type": "stream",
     "text": [
      "66.66666666666667 % Students Passed...\n"
     ]
    }
   ],
   "source": [
    "Stdnt_Count=int(input(\"Total no of student : \"))\n",
    "c=0\n",
    "passed=0\n",
    "if Stdnt_Count>0:\n",
    "    for i in range(1,Stdnt_Count+1):\n",
    "        marks=int(input(\"Enter student \"+str(i)+\" marks : \"))\n",
    "        if marks>=40:\n",
    "            passed+=1\n",
    "    per=(passed*100)/Stdnt_Count\n",
    "    print(per,\"% Students Passed...\")\n",
    "else:\n",
    "    print(\"Please Enter correct students numbers. \")"
   ]
  },
  {
   "cell_type": "code",
   "execution_count": null,
   "id": "2a830e19-7894-402f-8a86-c8584a6ef2ad",
   "metadata": {},
   "outputs": [],
   "source": []
  }
 ],
 "metadata": {
  "kernelspec": {
   "display_name": "Python 3 (ipykernel)",
   "language": "python",
   "name": "python3"
  },
  "language_info": {
   "codemirror_mode": {
    "name": "ipython",
    "version": 3
   },
   "file_extension": ".py",
   "mimetype": "text/x-python",
   "name": "python",
   "nbconvert_exporter": "python",
   "pygments_lexer": "ipython3",
   "version": "3.11.4"
  }
 },
 "nbformat": 4,
 "nbformat_minor": 5
}
