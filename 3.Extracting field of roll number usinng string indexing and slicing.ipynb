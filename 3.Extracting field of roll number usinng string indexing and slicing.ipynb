{
 "cells": [
  {
   "cell_type": "code",
   "execution_count": 2,
   "id": "8f6af8cc",
   "metadata": {},
   "outputs": [
    {
     "name": "stdout",
     "output_type": "stream",
     "text": [
      "Deparment code :  CS\n",
      "Course Year :  24\n",
      "Student Roll no :  05\n"
     ]
    }
   ],
   "source": [
    "#Extracting field of roll number usinng string indexing and slicing \n",
    "rno=\"CS2405\"\n",
    "print(\"Deparment code : \",rno[0:2])\n",
    "print(\"Course Year : \",rno[2:4])\n",
    "print(\"Student Roll no : \",rno[4:])"
   ]
  },
  {
   "cell_type": "code",
   "execution_count": null,
   "id": "8b5b0a0e-809f-4f07-92f7-8b9e93fcbb3a",
   "metadata": {},
   "outputs": [],
   "source": []
  },
  {
   "cell_type": "code",
   "execution_count": null,
   "id": "33233b3c-7977-4e9f-a795-0bf1e69355df",
   "metadata": {},
   "outputs": [],
   "source": []
  }
 ],
 "metadata": {
  "kernelspec": {
   "display_name": "Python 3 (ipykernel)",
   "language": "python",
   "name": "python3"
  },
  "language_info": {
   "codemirror_mode": {
    "name": "ipython",
    "version": 3
   },
   "file_extension": ".py",
   "mimetype": "text/x-python",
   "name": "python",
   "nbconvert_exporter": "python",
   "pygments_lexer": "ipython3",
   "version": "3.11.4"
  }
 },
 "nbformat": 4,
 "nbformat_minor": 5
}
