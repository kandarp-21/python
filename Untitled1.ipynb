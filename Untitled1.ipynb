{
 "cells": [
  {
   "cell_type": "code",
   "execution_count": 13,
   "id": "d673d978-91a0-4b6d-a47b-8fe36dd07df1",
   "metadata": {},
   "outputs": [
    {
     "name": "stdin",
     "output_type": "stream",
     "text": [
      "enter the number: 11\n"
     ]
    },
    {
     "name": "stdout",
     "output_type": "stream",
     "text": [
      "The sum is: 66\n"
     ]
    }
   ],
   "source": [
    "#sum of natural numbers\n",
    "num=(int(input(\"enter the number:\")))\n",
    "if num < 0:\n",
    "  print(\"enter a positive number\")\n",
    "else:\n",
    "    sum=0\n",
    "    while(num>0):\n",
    "        sum += num\n",
    "        num -= 1\n",
    "    print(\"The sum is:\",sum)"
   ]
  },
  {
   "cell_type": "code",
   "execution_count": null,
   "id": "70d5d3e6-3c17-452f-8532-53e494ed8c04",
   "metadata": {},
   "outputs": [],
   "source": []
  },
  {
   "cell_type": "code",
   "execution_count": null,
   "id": "051079cd-853f-46eb-bed1-86470d2699d9",
   "metadata": {},
   "outputs": [],
   "source": []
  }
 ],
 "metadata": {
  "kernelspec": {
   "display_name": "Python 3 (ipykernel)",
   "language": "python",
   "name": "python3"
  },
  "language_info": {
   "codemirror_mode": {
    "name": "ipython",
    "version": 3
   },
   "file_extension": ".py",
   "mimetype": "text/x-python",
   "name": "python",
   "nbconvert_exporter": "python",
   "pygments_lexer": "ipython3",
   "version": "3.11.4"
  }
 },
 "nbformat": 4,
 "nbformat_minor": 5
}
