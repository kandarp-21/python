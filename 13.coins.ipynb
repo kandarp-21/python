{
 "cells": [
  {
   "cell_type": "code",
   "execution_count": 2,
   "id": "54fc9610-5ef7-4396-ab52-1f7d97238265",
   "metadata": {},
   "outputs": [
    {
     "name": "stdin",
     "output_type": "stream",
     "text": [
      "Price:  11\n",
      "enter coin 1: 1\n",
      "enter coin 2: 2\n",
      "enter coin 3: 5\n"
     ]
    },
    {
     "name": "stdout",
     "output_type": "stream",
     "text": [
      "0 3 1\n",
      "1 0 2\n",
      "1 5 0\n",
      "2 2 1\n",
      "3 4 0\n",
      "4 1 1\n",
      "5 3 0\n",
      "6 0 1\n",
      "7 2 0\n",
      "9 1 0\n",
      "11 0 0\n",
      "total 11\n"
     ]
    }
   ],
   "source": [
    "price = int(input('Price: ')) \n",
    "p1=int(input(\"enter coin 1:\"))\n",
    "p2=int(input(\"enter coin 2:\"))\n",
    "p3=int(input(\"enter coin 3:\"))\n",
    "c=0\n",
    "for d1 in range(0, 1 + price // deno1): \n",
    "    for d2 in range(0, 1 + price // deno2): \n",
    "         for d3 in range(0, 1 + price // deno3): \n",
    "           if d1 * deno1 + d2 * deno2 + d3 * deno3 == price: \n",
    "                  print(d1, d2, d3) \n",
    "                  c+=1\n",
    "print(\"total \"+str(c))\n"
   ]
  },
  {
   "cell_type": "code",
   "execution_count": null,
   "id": "ce7f5242-0d68-4c5a-b683-465ff57ba938",
   "metadata": {},
   "outputs": [],
   "source": []
  }
 ],
 "metadata": {
  "kernelspec": {
   "display_name": "Python 3 (ipykernel)",
   "language": "python",
   "name": "python3"
  },
  "language_info": {
   "codemirror_mode": {
    "name": "ipython",
    "version": 3
   },
   "file_extension": ".py",
   "mimetype": "text/x-python",
   "name": "python",
   "nbconvert_exporter": "python",
   "pygments_lexer": "ipython3",
   "version": "3.11.4"
  }
 },
 "nbformat": 4,
 "nbformat_minor": 5
}
