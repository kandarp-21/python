{
 "cells": [
  {
   "cell_type": "code",
   "execution_count": 2,
   "id": "295f8523-3f23-4454-8ce8-21fc3ec5bb93",
   "metadata": {},
   "outputs": [
    {
     "name": "stdin",
     "output_type": "stream",
     "text": [
      "Enter String here:--> welcome to gujrat vidhyapth\n"
     ]
    },
    {
     "name": "stdout",
     "output_type": "stream",
     "text": [
      "Before Manipulation: welcome to gujh\n",
      "After manipulation: ujwecoe to ghml\n"
     ]
    }
   ],
   "source": [
    "st=input(\"Enter String here:-->\")\n",
    "\n",
    "f=st[:6]\n",
    "s=st[6:12]\n",
    "t=st[12:]\n",
    "\n",
    "f2=f[:2]\n",
    "f3=f[2]\n",
    "f4=f[3:5]\n",
    "f5=f[-1]\n",
    "\n",
    "t2=t[:2]\n",
    "t3=t[-1:]\n",
    "\n",
    "st=f2+f3+f4+f5+s+t2+t3\n",
    "after=t2+f2+f4+s+t3+f5+f3\n",
    "\n",
    "print(\"Before Manipulation:\",st)\n",
    "print(\"After manipulation:\",after)"
   ]
  },
  {
   "cell_type": "code",
   "execution_count": null,
   "id": "43ea0f36-c50c-480b-9d70-246f3b3051bb",
   "metadata": {},
   "outputs": [],
   "source": []
  }
 ],
 "metadata": {
  "kernelspec": {
   "display_name": "Python 3 (ipykernel)",
   "language": "python",
   "name": "python3"
  },
  "language_info": {
   "codemirror_mode": {
    "name": "ipython",
    "version": 3
   },
   "file_extension": ".py",
   "mimetype": "text/x-python",
   "name": "python",
   "nbconvert_exporter": "python",
   "pygments_lexer": "ipython3",
   "version": "3.11.4"
  }
 },
 "nbformat": 4,
 "nbformat_minor": 5
}
