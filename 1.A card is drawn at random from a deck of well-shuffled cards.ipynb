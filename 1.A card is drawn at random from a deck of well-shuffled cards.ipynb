{
 "cells": [
  {
   "cell_type": "code",
   "execution_count": 11,
   "id": "39f9465e",
   "metadata": {},
   "outputs": [
    {
     "name": "stdout",
     "output_type": "stream",
     "text": [
      "1.0\n"
     ]
    }
   ],
   "source": [
    "#A card is drawn at random from a deck of well-shuffled cards. Find the probability of it being\n",
    "#neither a king nor a spade.\n",
    "Tcards=52\n",
    "Kings=4\n",
    "Spades=13\n",
    "Spade_King=1\n",
    "\n",
    "NonSpades=Tcards(Spades+Kings-Spade_King)\n",
    "Prob=NonSpades/Tcards\n",
    "print(Prob)"
   ]
  },
  {
   "cell_type": "code",
   "execution_count": null,
   "id": "3a204234",
   "metadata": {},
   "outputs": [],
   "source": []
  }
 ],
 "metadata": {
  "kernelspec": {
   "display_name": "Python 3 (ipykernel)",
   "language": "python",
   "name": "python3"
  },
  "language_info": {
   "codemirror_mode": {
    "name": "ipython",
    "version": 3
   },
   "file_extension": ".py",
   "mimetype": "text/x-python",
   "name": "python",
   "nbconvert_exporter": "python",
   "pygments_lexer": "ipython3",
   "version": "3.11.4"
  }
 },
 "nbformat": 4,
 "nbformat_minor": 5
}
