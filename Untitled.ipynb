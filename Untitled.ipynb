{
 "cells": [
  {
   "cell_type": "code",
   "execution_count": 6,
   "id": "25f5507d-06d0-433d-9304-fbad5fa4a15a",
   "metadata": {},
   "outputs": [
    {
     "ename": "IndentationError",
     "evalue": "unexpected indent (1457715067.py, line 4)",
     "output_type": "error",
     "traceback": [
      "\u001b[1;36m  Cell \u001b[1;32mIn[6], line 4\u001b[1;36m\u001b[0m\n\u001b[1;33m    if n1>n2;\u001b[0m\n\u001b[1;37m    ^\u001b[0m\n\u001b[1;31mIndentationError\u001b[0m\u001b[1;31m:\u001b[0m unexpected indent\n"
     ]
    }
   ],
   "source": [
    "n1=int(input(\"enter no 1:\"))\n",
    "n2=int(input(\"enter no 2:\"))\n",
    "n3=int(input(\"enter no 3:\"))\n",
    " if n1>n2;\n",
    "\n",
    " if n1>n3;\n",
    " else:\n",
    "     print(\"greater no is :\",n1)\n",
    " else:\n",
    "     print(\"greater no is :\",n3)\n",
    " else:\n",
    "    if n2>n3;\n",
    "    print(\"greater no is :\",n2)\n",
    " else:\n",
    "    print(\"greater no is :\",n3)"
   ]
  },
  {
   "cell_type": "code",
   "execution_count": null,
   "id": "41b654c1-651b-453e-b4f4-8c8da6cea0f0",
   "metadata": {},
   "outputs": [],
   "source": []
  }
 ],
 "metadata": {
  "kernelspec": {
   "display_name": "Python 3 (ipykernel)",
   "language": "python",
   "name": "python3"
  },
  "language_info": {
   "codemirror_mode": {
    "name": "ipython",
    "version": 3
   },
   "file_extension": ".py",
   "mimetype": "text/x-python",
   "name": "python",
   "nbconvert_exporter": "python",
   "pygments_lexer": "ipython3",
   "version": "3.11.4"
  }
 },
 "nbformat": 4,
 "nbformat_minor": 5
}
