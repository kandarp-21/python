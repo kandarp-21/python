{
 "cells": [
  {
   "cell_type": "code",
   "execution_count": 3,
   "id": "7f030f50",
   "metadata": {},
   "outputs": [
    {
     "name": "stdin",
     "output_type": "stream",
     "text": [
      "Enter blood group 1: z\n",
      "Enter blood group 2: z\n"
     ]
    },
    {
     "name": "stdout",
     "output_type": "stream",
     "text": [
      "Blood group match\n"
     ]
    }
   ],
   "source": [
    "#[5] Write program to find out if the two blood group match\n",
    "\n",
    "b1=input(\"Enter blood group 1:\")\n",
    "b2=input(\"Enter blood group 2:\")\n",
    "if (b1 in b2):\n",
    "    print(\"Blood group match\")\n",
    "else:\n",
    "    print(\"Blood group not match\")"
   ]
  },
  {
   "cell_type": "code",
   "execution_count": null,
   "id": "640de96d",
   "metadata": {},
   "outputs": [],
   "source": []
  }
 ],
 "metadata": {
  "kernelspec": {
   "display_name": "Python 3 (ipykernel)",
   "language": "python",
   "name": "python3"
  },
  "language_info": {
   "codemirror_mode": {
    "name": "ipython",
    "version": 3
   },
   "file_extension": ".py",
   "mimetype": "text/x-python",
   "name": "python",
   "nbconvert_exporter": "python",
   "pygments_lexer": "ipython3",
   "version": "3.11.4"
  }
 },
 "nbformat": 4,
 "nbformat_minor": 5
}
