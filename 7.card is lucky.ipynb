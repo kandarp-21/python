{
 "cells": [
  {
   "cell_type": "code",
   "execution_count": 1,
   "id": "29103a16-d98f-4627-9b94-feabbf6b1b02",
   "metadata": {},
   "outputs": [
    {
     "name": "stdin",
     "output_type": "stream",
     "text": [
      "Enter card : (Ex. Spade Of 2) king Heart\n"
     ]
    },
    {
     "name": "stdout",
     "output_type": "stream",
     "text": [
      "Lucky you!\n"
     ]
    }
   ],
   "source": [
    "Lucky_Cards=['Spade Of Ace','Heart','Queen Of Diamond','King Of Diamond','7']\n",
    "card=input(\"Enter card : (Ex. Spade Of 2)\")\n",
    "if card in Lucky_Cards:\n",
    "    print(\"Lucky you!\")\n",
    "elif \"Heart\" in card :\n",
    "    print(\"Lucky you!\")\n",
    "else :\n",
    "    print(\"Better luck next time.\")"
   ]
  },
  {
   "cell_type": "code",
   "execution_count": null,
   "id": "582c16a3-a018-48b8-adc3-ccbc3cd190c2",
   "metadata": {},
   "outputs": [],
   "source": []
  }
 ],
 "metadata": {
  "kernelspec": {
   "display_name": "Python 3 (ipykernel)",
   "language": "python",
   "name": "python3"
  },
  "language_info": {
   "codemirror_mode": {
    "name": "ipython",
    "version": 3
   },
   "file_extension": ".py",
   "mimetype": "text/x-python",
   "name": "python",
   "nbconvert_exporter": "python",
   "pygments_lexer": "ipython3",
   "version": "3.11.4"
  }
 },
 "nbformat": 4,
 "nbformat_minor": 5
}
