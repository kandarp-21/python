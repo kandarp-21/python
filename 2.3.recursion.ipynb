{
 "cells": [
  {
   "cell_type": "code",
   "execution_count": null,
   "id": "54b6395e-b9fd-404a-a11b-d301f8a6467f",
   "metadata": {},
   "outputs": [],
   "source": [
    "def num(n):\n",
    "    if n>0:\n",
    "        num(n-1)\n",
    "        print(n)\n",
    "n=int(input(\"enter the number :\"))\n",
    "num(n)"
   ]
  },
  {
   "cell_type": "code",
   "execution_count": null,
   "id": "9c6d6627-9b50-4213-8eb2-417ffc299883",
   "metadata": {},
   "outputs": [],
   "source": []
  }
 ],
 "metadata": {
  "kernelspec": {
   "display_name": "Python 3 (ipykernel)",
   "language": "python",
   "name": "python3"
  },
  "language_info": {
   "codemirror_mode": {
    "name": "ipython",
    "version": 3
   },
   "file_extension": ".py",
   "mimetype": "text/x-python",
   "name": "python",
   "nbconvert_exporter": "python",
   "pygments_lexer": "ipython3",
   "version": "3.11.4"
  }
 },
 "nbformat": 4,
 "nbformat_minor": 5
}
