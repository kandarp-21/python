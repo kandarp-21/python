{
 "cells": [
  {
   "cell_type": "code",
   "execution_count": 5,
   "id": "67ca6521-3cb1-4340-be08-9ae7fd8bc04f",
   "metadata": {},
   "outputs": [
    {
     "name": "stdin",
     "output_type": "stream",
     "text": [
      "enter the roll number: 1\n"
     ]
    },
    {
     "name": "stdout",
     "output_type": "stream",
     "text": [
      "student is in the cs department\n"
     ]
    }
   ],
   "source": [
    "#student is in the cs department or not\n",
    "roll_num=(input(\"enter the roll number:\"))\n",
    "if roll_num ==\"C\" and \"S\" or \"C\" and \"S\" :\n",
    "    print(\"student is in the cs department\")\n",
    "else:\n",
    "    print(\"student is not in CS department\")"
   ]
  },
  {
   "cell_type": "code",
   "execution_count": null,
   "id": "f12c1069-f0f7-40eb-929f-896d14102372",
   "metadata": {},
   "outputs": [],
   "source": []
  }
 ],
 "metadata": {
  "kernelspec": {
   "display_name": "Python 3 (ipykernel)",
   "language": "python",
   "name": "python3"
  },
  "language_info": {
   "codemirror_mode": {
    "name": "ipython",
    "version": 3
   },
   "file_extension": ".py",
   "mimetype": "text/x-python",
   "name": "python",
   "nbconvert_exporter": "python",
   "pygments_lexer": "ipython3",
   "version": "3.11.4"
  }
 },
 "nbformat": 4,
 "nbformat_minor": 5
}
