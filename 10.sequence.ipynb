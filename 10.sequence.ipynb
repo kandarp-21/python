{
 "cells": [
  {
   "cell_type": "code",
   "execution_count": null,
   "id": "1ecfa598-406b-4fae-8c6c-2d309e0a677d",
   "metadata": {},
   "outputs": [
    {
     "name": "stdin",
     "output_type": "stream",
     "text": [
      "Total no of student :  4\n"
     ]
    }
   ],
   "source": [
    "Stdnt_Count=int(input(\"Total no of student : \"))\n",
    "c=0\n",
    "passed=0\n",
    "if Stdnt_Count>0:\n",
    "    for i in range(1,Stdnt_Count+1):\n",
    "        marks=int(input(\"Enter student \"+str(i)+\" marks : \"))\n",
    "        if marks>=40:\n",
    "            passed+=1\n",
    "    per=(passed*100)/Stdnt_Count\n",
    "    print(per,\"% Students Passed...\")\n",
    "else:\n",
    "    print(\"Please Enter correct students numbers. \")"
   ]
  },
  {
   "cell_type": "code",
   "execution_count": null,
   "id": "246e3584-b3a8-44ba-86ba-76c1f8137af3",
   "metadata": {},
   "outputs": [],
   "source": []
  }
 ],
 "metadata": {
  "kernelspec": {
   "display_name": "Python 3 (ipykernel)",
   "language": "python",
   "name": "python3"
  },
  "language_info": {
   "codemirror_mode": {
    "name": "ipython",
    "version": 3
   },
   "file_extension": ".py",
   "mimetype": "text/x-python",
   "name": "python",
   "nbconvert_exporter": "python",
   "pygments_lexer": "ipython3",
   "version": "3.11.4"
  }
 },
 "nbformat": 4,
 "nbformat_minor": 5
}
